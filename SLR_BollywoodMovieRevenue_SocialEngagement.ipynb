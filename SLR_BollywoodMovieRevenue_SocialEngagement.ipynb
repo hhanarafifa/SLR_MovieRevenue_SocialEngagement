{
 "cells": [
  {
   "cell_type": "markdown",
   "id": "99b07758",
   "metadata": {},
   "source": [
    "## SLR on Bollywood Movies' Revenue"
   ]
  },
  {
   "cell_type": "code",
   "execution_count": 16,
   "id": "d061c2df",
   "metadata": {},
   "outputs": [],
   "source": [
    "#import basic library\n",
    "import numpy as np\n",
    "import pandas as pd\n",
    "import seaborn as sn\n",
    "import matplotlib.pyplot as plt\n",
    "\n",
    "import statsmodels.api as sm\n",
    "\n",
    "import warnings\n",
    "warnings.filterwarnings('ignore')"
   ]
  },
  {
   "cell_type": "code",
   "execution_count": 15,
   "id": "0ff2b317",
   "metadata": {},
   "outputs": [],
   "source": [
    "# Goal: To discern whether the producers should invest more for Social media promotion"
   ]
  },
  {
   "cell_type": "code",
   "execution_count": 17,
   "id": "5707b5db",
   "metadata": {},
   "outputs": [
    {
     "data": {
      "text/html": [
       "<div>\n",
       "<style scoped>\n",
       "    .dataframe tbody tr th:only-of-type {\n",
       "        vertical-align: middle;\n",
       "    }\n",
       "\n",
       "    .dataframe tbody tr th {\n",
       "        vertical-align: top;\n",
       "    }\n",
       "\n",
       "    .dataframe thead th {\n",
       "        text-align: right;\n",
       "    }\n",
       "</style>\n",
       "<table border=\"1\" class=\"dataframe\">\n",
       "  <thead>\n",
       "    <tr style=\"text-align: right;\">\n",
       "      <th></th>\n",
       "      <th>Region</th>\n",
       "      <th>Cumulative Likes + Dislikes (Engagement)</th>\n",
       "      <th>Revenue</th>\n",
       "    </tr>\n",
       "  </thead>\n",
       "  <tbody>\n",
       "    <tr>\n",
       "      <th>0</th>\n",
       "      <td>Mumbai</td>\n",
       "      <td>908104</td>\n",
       "      <td>70056138</td>\n",
       "    </tr>\n",
       "    <tr>\n",
       "      <th>1</th>\n",
       "      <td>Delhi/UP</td>\n",
       "      <td>1885487</td>\n",
       "      <td>45230603</td>\n",
       "    </tr>\n",
       "    <tr>\n",
       "      <th>2</th>\n",
       "      <td>East Punjab</td>\n",
       "      <td>845910</td>\n",
       "      <td>17193472</td>\n",
       "    </tr>\n",
       "    <tr>\n",
       "      <th>3</th>\n",
       "      <td>West Bengal</td>\n",
       "      <td>1071577</td>\n",
       "      <td>15074364</td>\n",
       "    </tr>\n",
       "    <tr>\n",
       "      <th>4</th>\n",
       "      <td>bihar</td>\n",
       "      <td>5</td>\n",
       "      <td>6165934</td>\n",
       "    </tr>\n",
       "    <tr>\n",
       "      <th>5</th>\n",
       "      <td>Rajasthan</td>\n",
       "      <td>3188</td>\n",
       "      <td>11934830</td>\n",
       "    </tr>\n",
       "    <tr>\n",
       "      <th>6</th>\n",
       "      <td>Nizam/AP</td>\n",
       "      <td>11527</td>\n",
       "      <td>14984099</td>\n",
       "    </tr>\n",
       "    <tr>\n",
       "      <th>7</th>\n",
       "      <td>Mysore</td>\n",
       "      <td>189588</td>\n",
       "      <td>5923729</td>\n",
       "    </tr>\n",
       "    <tr>\n",
       "      <th>8</th>\n",
       "      <td>Assam</td>\n",
       "      <td>34939</td>\n",
       "      <td>2371340</td>\n",
       "    </tr>\n",
       "    <tr>\n",
       "      <th>9</th>\n",
       "      <td>Odisha</td>\n",
       "      <td>999024</td>\n",
       "      <td>2328932</td>\n",
       "    </tr>\n",
       "    <tr>\n",
       "      <th>10</th>\n",
       "      <td>TNK</td>\n",
       "      <td>644074</td>\n",
       "      <td>1482738</td>\n",
       "    </tr>\n",
       "    <tr>\n",
       "      <th>11</th>\n",
       "      <td>CP</td>\n",
       "      <td>482457</td>\n",
       "      <td>14224686</td>\n",
       "    </tr>\n",
       "    <tr>\n",
       "      <th>12</th>\n",
       "      <td>CI</td>\n",
       "      <td>296348</td>\n",
       "      <td>10595171</td>\n",
       "    </tr>\n",
       "  </tbody>\n",
       "</table>\n",
       "</div>"
      ],
      "text/plain": [
       "         Region  Cumulative Likes + Dislikes (Engagement)  Revenue \n",
       "0       Mumbai                                     908104  70056138\n",
       "1      Delhi/UP                                   1885487  45230603\n",
       "2   East Punjab                                    845910  17193472\n",
       "3   West Bengal                                   1071577  15074364\n",
       "4         bihar                                         5   6165934\n",
       "5     Rajasthan                                      3188  11934830\n",
       "6      Nizam/AP                                     11527  14984099\n",
       "7       Mysore                                     189588   5923729\n",
       "8         Assam                                     34939   2371340\n",
       "9        Odisha                                    999024   2328932\n",
       "10          TNK                                    644074   1482738\n",
       "11           CP                                    482457  14224686\n",
       "12           CI                                    296348  10595171"
      ]
     },
     "execution_count": 17,
     "metadata": {},
     "output_type": "execute_result"
    }
   ],
   "source": [
    "# import dataset\n",
    "df = pd.read_excel('bollywood_collections.xlsx')\n",
    "df"
   ]
  },
  {
   "cell_type": "code",
   "execution_count": 18,
   "id": "92cc6de6",
   "metadata": {},
   "outputs": [],
   "source": [
    "# Let the Cummulative Likes + Dislikes (Engagement) as X and Revenue as y\n",
    "X = sm.add_constant(df['Cumulative Likes + Dislikes (Engagement)'])\n",
    "y = df['Revenue ']"
   ]
  },
  {
   "cell_type": "code",
   "execution_count": 19,
   "id": "65efd915",
   "metadata": {},
   "outputs": [],
   "source": [
    "# Fit it to the model\n",
    "model = sm.OLS(y,X).fit()"
   ]
  },
  {
   "cell_type": "code",
   "execution_count": 20,
   "id": "686cc38d",
   "metadata": {},
   "outputs": [
    {
     "name": "stdout",
     "output_type": "stream",
     "text": [
      "const                                       6.245082e+06\n",
      "Cumulative Likes + Dislikes (Engagement)    1.849915e+01\n",
      "dtype: float64\n"
     ]
    }
   ],
   "source": [
    "print(model.params)"
   ]
  },
  {
   "cell_type": "code",
   "execution_count": 27,
   "id": "8511f812",
   "metadata": {},
   "outputs": [],
   "source": [
    "# Here we got the model equation : y = 6.24*10^6 + 18.49 X"
   ]
  },
  {
   "cell_type": "code",
   "execution_count": 28,
   "id": "8c77f2a8",
   "metadata": {},
   "outputs": [],
   "source": [
    "# predict the y value\n",
    "\n",
    "y_pred = model.predict(X)"
   ]
  },
  {
   "cell_type": "code",
   "execution_count": 24,
   "id": "764a2cb2",
   "metadata": {},
   "outputs": [
    {
     "name": "stdout",
     "output_type": "stream",
     "text": [
      "                            OLS Regression Results                            \n",
      "==============================================================================\n",
      "Dep. Variable:               Revenue    R-squared:                       0.285\n",
      "Model:                            OLS   Adj. R-squared:                  0.220\n",
      "Method:                 Least Squares   F-statistic:                     4.385\n",
      "Date:                Tue, 06 Dec 2022   Prob (F-statistic):             0.0602\n",
      "Time:                        11:51:15   Log-Likelihood:                -234.02\n",
      "No. Observations:                  13   AIC:                             472.0\n",
      "Df Residuals:                      11   BIC:                             473.2\n",
      "Df Model:                           1                                         \n",
      "Covariance Type:            nonrobust                                         \n",
      "============================================================================================================\n",
      "                                               coef    std err          t      P>|t|      [0.025      0.975]\n",
      "------------------------------------------------------------------------------------------------------------\n",
      "const                                     6.245e+06   6.94e+06      0.900      0.387   -9.02e+06    2.15e+07\n",
      "Cumulative Likes + Dislikes (Engagement)    18.4992      8.835      2.094      0.060      -0.946      37.944\n",
      "==============================================================================\n",
      "Omnibus:                       15.866   Durbin-Watson:                   0.872\n",
      "Prob(Omnibus):                  0.000   Jarque-Bera (JB):               11.861\n",
      "Skew:                           1.667   Prob(JB):                      0.00266\n",
      "Kurtosis:                       6.283   Cond. No.                     1.14e+06\n",
      "==============================================================================\n",
      "\n",
      "Notes:\n",
      "[1] Standard Errors assume that the covariance matrix of the errors is correctly specified.\n",
      "[2] The condition number is large, 1.14e+06. This might indicate that there are\n",
      "strong multicollinearity or other numerical problems.\n"
     ]
    }
   ],
   "source": [
    "# Check the significinant relationship of Engagement to the revenue\n",
    "print(model.summary())"
   ]
  },
  {
   "cell_type": "code",
   "execution_count": 26,
   "id": "7cf7f3f4",
   "metadata": {},
   "outputs": [],
   "source": [
    "# p-value of Engagement is larger than 0.05, thus their relationship is insignificant"
   ]
  },
  {
   "cell_type": "code",
   "execution_count": 33,
   "id": "d8bb1eca",
   "metadata": {},
   "outputs": [
    {
     "name": "stdout",
     "output_type": "stream",
     "text": [
      "0.28499688754941344\n"
     ]
    }
   ],
   "source": [
    "# Measure the r-squared to discern how close the data are fitted to the regression line\n",
    "\n",
    "from sklearn.metrics import r2_score\n",
    "print(r2_score(y, y_pred))\n",
    "\n",
    "# The models only explains 28.5% of the variances in Y.\n",
    "# 71.5% of variability in the outcome data CANNOT be explained by model"
   ]
  },
  {
   "cell_type": "code",
   "execution_count": null,
   "id": "1b948b12",
   "metadata": {},
   "outputs": [],
   "source": [
    "# So, should producers invest more on social media engagement?\n",
    "\n",
    "# First, There is no statistical proof that increase in social media engagement will increase the revenue\n",
    "# because their relationship is insignificant. Second, There is a majority of outcome data that cannot be \n",
    "# explained by the model. So, producers should not invest more on social media engagement."
   ]
  }
 ],
 "metadata": {
  "kernelspec": {
   "display_name": "Python 3 (ipykernel)",
   "language": "python",
   "name": "python3"
  },
  "language_info": {
   "codemirror_mode": {
    "name": "ipython",
    "version": 3
   },
   "file_extension": ".py",
   "mimetype": "text/x-python",
   "name": "python",
   "nbconvert_exporter": "python",
   "pygments_lexer": "ipython3",
   "version": "3.9.13"
  }
 },
 "nbformat": 4,
 "nbformat_minor": 5
}
